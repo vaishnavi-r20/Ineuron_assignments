{
 "cells": [
  {
   "cell_type": "markdown",
   "id": "45792ae3",
   "metadata": {},
   "source": [
    "Assignment 1"
   ]
  },
  {
   "cell_type": "markdown",
   "id": "3c07cbee",
   "metadata": {},
   "source": [
    "1. In the below elements which of them are values or an expression? eg:- values can be\n",
    "integer or string and expressions will be mathematical operators."
   ]
  },
  {
   "cell_type": "raw",
   "id": "14da7f8a",
   "metadata": {},
   "source": [
    "'hello': Value(string)\n",
    "-87.8  : Value(float)\n",
    "-      : Expression(hyphen)\n",
    "/      : Expression(slash)\n",
    "+      : Expression(plus)\n",
    "6      : Value(integer)"
   ]
  },
  {
   "cell_type": "markdown",
   "id": "0b62d814",
   "metadata": {},
   "source": [
    "2. What is the difference between string and variable?"
   ]
  },
  {
   "cell_type": "raw",
   "id": "63ed2953",
   "metadata": {},
   "source": [
    "Variable is used for storing a value \n",
    "eg. a= 12 where a is variable\n",
    "\n",
    "String is set of characters enclosed in a inverted commas which is stored in a varaible\n",
    "eg. b='Hello' where 'Hello' is a string"
   ]
  },
  {
   "cell_type": "markdown",
   "id": "2876c87f",
   "metadata": {},
   "source": [
    "3. Describe three different data types."
   ]
  },
  {
   "cell_type": "raw",
   "id": "c99056f6",
   "metadata": {},
   "source": [
    "String: Strings are sequences of character data. The string type in Python is called str. String literals may be delimited using either single or double quotes. All the characters between the opening delimiter and matching closing delimiter are part of the string.\n",
    "eg. a=\"This is python programming\"\n",
    "\n",
    "Integer: This value is represented by int class. It contains positive or negative whole numbers. In Python there is no limit to how long an integer value can be.\n",
    "eg. b=45\n",
    "    c=3\n",
    "    \n",
    "Float: This value is represented by float class. It is a real number with floating point representation. It is specified by a decimal point. Optionally, the character e or E followed by a positive or negative integer may be appended to specify scientific notation.\n",
    "eg. x=5.1\n",
    "    y=76.0"
   ]
  },
  {
   "cell_type": "markdown",
   "id": "12f0bf78",
   "metadata": {},
   "source": [
    "4. What is an expression made up of? What do all expressions do?"
   ]
  },
  {
   "cell_type": "raw",
   "id": "efc24e09",
   "metadata": {},
   "source": [
    "An expression is a combination of operators and operands that is interpreted to produce some other value. In any programming language, an expression is evaluated as per the precedence of its operators. So that if there is more than one operator in an expression, their precedence decides which operation will be performed first. "
   ]
  },
  {
   "cell_type": "markdown",
   "id": "befd3fca",
   "metadata": {},
   "source": [
    "5. This assignment statements, like spam = 10. What is the difference between an expression and a statement?"
   ]
  },
  {
   "cell_type": "raw",
   "id": "32558d05",
   "metadata": {},
   "source": [
    "Statements represent an action or command e.g print statements, assignment statements. Expression is a combination of variables, operations and values that yields a result value.\n",
    "spam= 10 is a expression."
   ]
  },
  {
   "cell_type": "markdown",
   "id": "e41bf9c8",
   "metadata": {},
   "source": [
    "6. After running the following code, what does the variable bacon contain?\n",
    "bacon = 22\n",
    "bacon + 1"
   ]
  },
  {
   "cell_type": "code",
   "execution_count": 3,
   "id": "d8b7c927",
   "metadata": {},
   "outputs": [
    {
     "data": {
      "text/plain": [
       "23"
      ]
     },
     "execution_count": 3,
     "metadata": {},
     "output_type": "execute_result"
    }
   ],
   "source": [
    "bacon=22\n",
    "bacon + 1"
   ]
  },
  {
   "cell_type": "markdown",
   "id": "a58985be",
   "metadata": {},
   "source": [
    "7. What should the values of the following two terms be?\n",
    "'spam' + 'spamspam'\n",
    "'spam' * 3"
   ]
  },
  {
   "cell_type": "code",
   "execution_count": 4,
   "id": "0ddbee14",
   "metadata": {},
   "outputs": [
    {
     "data": {
      "text/plain": [
       "'spamspamspam'"
      ]
     },
     "execution_count": 4,
     "metadata": {},
     "output_type": "execute_result"
    }
   ],
   "source": [
    "'spam' + 'spamspam'"
   ]
  },
  {
   "cell_type": "code",
   "execution_count": 5,
   "id": "0c918cf3",
   "metadata": {},
   "outputs": [
    {
     "data": {
      "text/plain": [
       "'spamspamspam'"
      ]
     },
     "execution_count": 5,
     "metadata": {},
     "output_type": "execute_result"
    }
   ],
   "source": [
    "'spam' * 3"
   ]
  },
  {
   "cell_type": "markdown",
   "id": "051af6a6",
   "metadata": {},
   "source": [
    "8. Why is eggs a valid variable name while 100 is invalid?"
   ]
  },
  {
   "cell_type": "raw",
   "id": "d60e3127",
   "metadata": {},
   "source": [
    "Vraiable name can be set of characters which have alpha-numeric characters and underscore. And name of variable should always start with alphabet or underscore.\n",
    "egg can be a variable name because it satisfies the above condition but 100 can't be a variable name because it starts with a digit which is contradicting a rule for writing variable"
   ]
  },
  {
   "cell_type": "markdown",
   "id": "e7f43d2d",
   "metadata": {},
   "source": [
    "9. What three functions can be used to get the integer, floating-point number, or string version of a value?"
   ]
  },
  {
   "cell_type": "raw",
   "id": "93782d12",
   "metadata": {},
   "source": [
    "int() , float()  and str( ) "
   ]
  },
  {
   "cell_type": "markdown",
   "id": "d209710e",
   "metadata": {},
   "source": [
    "10. Why does this expression cause an error? How can you fix it?\n",
    "'I have eaten ' + 99 + ' burritos.'\n"
   ]
  },
  {
   "cell_type": "raw",
   "id": "5bbd6715",
   "metadata": {},
   "source": [
    "'I have eaten' + 99 +'burritos'\n",
    "This expreeion causes error because we can't add string and integer but we can add same data type like str and str or int and int so to fix the error we can write 99 as a string"
   ]
  },
  {
   "cell_type": "code",
   "execution_count": 7,
   "id": "6525d33c",
   "metadata": {},
   "outputs": [
    {
     "data": {
      "text/plain": [
       "'I have eaten99burritos'"
      ]
     },
     "execution_count": 7,
     "metadata": {},
     "output_type": "execute_result"
    }
   ],
   "source": [
    "'I have eaten' + '99' +'burritos'"
   ]
  },
  {
   "cell_type": "code",
   "execution_count": null,
   "id": "3f16cc22",
   "metadata": {},
   "outputs": [],
   "source": []
  }
 ],
 "metadata": {
  "kernelspec": {
   "display_name": "Python 3",
   "language": "python",
   "name": "python3"
  },
  "language_info": {
   "codemirror_mode": {
    "name": "ipython",
    "version": 3
   },
   "file_extension": ".py",
   "mimetype": "text/x-python",
   "name": "python",
   "nbconvert_exporter": "python",
   "pygments_lexer": "ipython3",
   "version": "3.8.8"
  }
 },
 "nbformat": 4,
 "nbformat_minor": 5
}
