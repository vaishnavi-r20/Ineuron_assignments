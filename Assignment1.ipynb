{
 "cells": [
  {
   "cell_type": "markdown",
   "id": "8f566942",
   "metadata": {},
   "source": [
    "Assignment 1"
   ]
  },
  {
   "cell_type": "markdown",
   "id": "4f1af3f4",
   "metadata": {},
   "source": [
    "1. In the below elements which of them are values or an expression? eg:- values can be\n",
    "integer or string and expressions will be mathematical operators."
   ]
  },
  {
   "cell_type": "markdown",
   "id": "fbeb3faa",
   "metadata": {},
   "source": [
    "ANSWER:\n",
    "'hello': Value(string)\n",
    "-87.8  : Value(float)\n",
    "-      : Expression(hyphen)\n",
    "/      : Expression(slash)\n",
    "+      : Expression(plus)\n",
    "6      : Value(integer)"
   ]
  },
  {
   "cell_type": "markdown",
   "id": "d1446204",
   "metadata": {},
   "source": [
    "2. What is the difference between string and variable?"
   ]
  },
  {
   "cell_type": "markdown",
   "id": "05a2a433",
   "metadata": {},
   "source": [
    "ANSWER:\n",
    "Variable is used for storing a value \n",
    "eg. a= 12 where a is variable\n",
    "\n",
    "String is set of characters enclosed in a inverted commas which is stored in a varaible\n",
    "eg. b='Hello' where 'Hello' is a string"
   ]
  },
  {
   "cell_type": "markdown",
   "id": "c7f9a8de",
   "metadata": {},
   "source": [
    "3. Describe three different data types."
   ]
  },
  {
   "cell_type": "markdown",
   "id": "02f3b419",
   "metadata": {},
   "source": [
    "ANSWER:\n",
    "String: Strings are sequences of character data. The string type in Python is called str. String literals may be delimited using either single or double quotes. All the characters between the opening delimiter and matching closing delimiter are part of the string.\n",
    "eg. a=\"This is python programming\"\n",
    "\n",
    "Integer: This value is represented by int class. It contains positive or negative whole numbers. In Python there is no limit to how long an integer value can be.\n",
    "eg. b=45\n",
    "    c=3\n",
    "    \n",
    "Float: This value is represented by float class. It is a real number with floating point representation. It is specified by a decimal point. Optionally, the character e or E followed by a positive or negative integer may be appended to specify scientific notation.\n",
    "eg. x=5.1\n",
    "    y=76.0"
   ]
  },
  {
   "cell_type": "markdown",
   "id": "657a58ec",
   "metadata": {},
   "source": [
    "4. What is an expression made up of? What do all expressions do?"
   ]
  },
  {
   "cell_type": "markdown",
   "id": "569ffb2e",
   "metadata": {},
   "source": [
    "ANSWER:\n",
    "An expression is a combination of operators and operands that is interpreted to produce some other value. In any programming language, an expression is evaluated as per the precedence of its operators. So that if there is more than one operator in an expression, their precedence decides which operation will be performed first. "
   ]
  },
  {
   "cell_type": "markdown",
   "id": "be050f10",
   "metadata": {},
   "source": [
    "5. This assignment statements, like spam = 10. What is the difference between an expression and a statement?"
   ]
  },
  {
   "cell_type": "markdown",
   "id": "2c347770",
   "metadata": {},
   "source": [
    "ANSWER:\n",
    "Statements represent an action or command e.g print statements, assignment statements. Expression is a combination of variables, operations and values that yields a result value.\n",
    "spam= 10 is a expression."
   ]
  },
  {
   "cell_type": "markdown",
   "id": "96e6f2d9",
   "metadata": {},
   "source": [
    "6. After running the following code, what does the variable bacon contain?\n",
    "bacon = 22\n",
    "bacon + 1"
   ]
  },
  {
   "cell_type": "code",
   "execution_count": 3,
   "id": "418b0c1e",
   "metadata": {},
   "outputs": [
    {
     "data": {
      "text/plain": [
       "23"
      ]
     },
     "execution_count": 3,
     "metadata": {},
     "output_type": "execute_result"
    }
   ],
   "source": [
    "bacon=22\n",
    "bacon + 1"
   ]
  },
  {
   "cell_type": "markdown",
   "id": "c30d90b6",
   "metadata": {},
   "source": [
    "7. What should the values of the following two terms be?\n",
    "'spam' + 'spamspam'\n",
    "'spam' * 3"
   ]
  },
  {
   "cell_type": "code",
   "execution_count": 4,
   "id": "b3e0a649",
   "metadata": {},
   "outputs": [
    {
     "data": {
      "text/plain": [
       "'spamspamspam'"
      ]
     },
     "execution_count": 4,
     "metadata": {},
     "output_type": "execute_result"
    }
   ],
   "source": [
    "'spam' + 'spamspam'"
   ]
  },
  {
   "cell_type": "code",
   "execution_count": 5,
   "id": "05a08138",
   "metadata": {},
   "outputs": [
    {
     "data": {
      "text/plain": [
       "'spamspamspam'"
      ]
     },
     "execution_count": 5,
     "metadata": {},
     "output_type": "execute_result"
    }
   ],
   "source": [
    "'spam' * 3"
   ]
  },
  {
   "cell_type": "markdown",
   "id": "f5f90d41",
   "metadata": {},
   "source": [
    "8. Why is eggs a valid variable name while 100 is invalid?"
   ]
  },
  {
   "cell_type": "markdown",
   "id": "13c9279a",
   "metadata": {},
   "source": [
    "ANSWER:\n",
    "Vraiable name can be set of characters which have alpha-numeric characters and underscore. And name of variable should always start with alphabet or underscore.\n",
    "egg can be a variable name because it satisfies the above condition but 100 can't be a variable name because it starts with a digit which is contradicting a rule for writing variable"
   ]
  },
  {
   "cell_type": "markdown",
   "id": "45f3bf4f",
   "metadata": {},
   "source": [
    "9. What three functions can be used to get the integer, floating-point number, or string version of a value?"
   ]
  },
  {
   "cell_type": "markdown",
   "id": "e155f015",
   "metadata": {},
   "source": [
    "ANSWER:\n",
    "int() , float()  and str( ) "
   ]
  },
  {
   "cell_type": "markdown",
   "id": "49944c48",
   "metadata": {},
   "source": [
    "10. Why does this expression cause an error? How can you fix it?\n",
    "'I have eaten ' + 99 + ' burritos.'\n"
   ]
  },
  {
   "cell_type": "markdown",
   "id": "5c9173e9",
   "metadata": {},
   "source": [
    "ANSWER:\n",
    "'I have eaten' + 99 +'burritos'\n",
    "This expreeion causes error because we can't add string and integer but we can add same data type like str and str or int and int so to fix the error we can write 99 as a string"
   ]
  },
  {
   "cell_type": "code",
   "execution_count": 7,
   "id": "db67e2cd",
   "metadata": {},
   "outputs": [
    {
     "data": {
      "text/plain": [
       "'I have eaten99burritos'"
      ]
     },
     "execution_count": 7,
     "metadata": {},
     "output_type": "execute_result"
    }
   ],
   "source": [
    "'I have eaten' + '99' +'burritos'"
   ]
  },
  {
   "cell_type": "code",
   "execution_count": null,
   "id": "77e66261",
   "metadata": {},
   "outputs": [],
   "source": []
  }
 ],
 "metadata": {
  "kernelspec": {
   "display_name": "Python 3",
   "language": "python",
   "name": "python3"
  },
  "language_info": {
   "codemirror_mode": {
    "name": "ipython",
    "version": 3
   },
   "file_extension": ".py",
   "mimetype": "text/x-python",
   "name": "python",
   "nbconvert_exporter": "python",
   "pygments_lexer": "ipython3",
   "version": "3.8.8"
  }
 },
 "nbformat": 4,
 "nbformat_minor": 5
}
